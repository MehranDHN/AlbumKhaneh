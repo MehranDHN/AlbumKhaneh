{
  "nbformat": 4,
  "nbformat_minor": 0,
  "metadata": {
    "colab": {
      "provenance": [],
      "authorship_tag": "ABX9TyPumqWsGGOL+xGacip6FWTL",
      "include_colab_link": true
    },
    "kernelspec": {
      "name": "python3",
      "display_name": "Python 3"
    },
    "language_info": {
      "name": "python"
    }
  },
  "cells": [
    {
      "cell_type": "markdown",
      "metadata": {
        "id": "view-in-github",
        "colab_type": "text"
      },
      "source": [
        "<a href=\"https://colab.research.google.com/github/MehranDHN/AlbumKhaneh/blob/main/prezi_recipes.ipynb\" target=\"_parent\"><img src=\"https://colab.research.google.com/assets/colab-badge.svg\" alt=\"Open In Colab\"/></a>"
      ]
    },
    {
      "cell_type": "markdown",
      "source": [
        "**0001-mvm-image-method1**<br>\n",
        "https://github.com/iiif-prezi/iiif-prezi3/blob/main/docs/recipes/scripts/0001-mvm-image-method1.py\n",
        "\n"
      ],
      "metadata": {
        "id": "lU4sSwRX78d1"
      }
    },
    {
      "cell_type": "code",
      "source": [
        "!pip install iiif-prezi3"
      ],
      "metadata": {
        "id": "eMRpGc-c8QpX"
      },
      "execution_count": null,
      "outputs": []
    },
    {
      "cell_type": "markdown",
      "source": [
        "\n",
        "After installing the package we start the simplest on-the-fly manifest creation example. During following these recipes we should think about the use cases and focus on the important role that this library plays in our scenarios.<br>\n",
        "\n",
        "\n",
        "*    Since the IIIF manifest has multi-language capabilities we should configure the default language tag that we want to use in our manifest.\n",
        "*   Then we create a Manifest by providing two parameters. The first is the unique URI of our manifest and the other one is the human-readable label that I intentionally changed from the original one emphasizing that any text can be provided with language tags.\n",
        "\n",
        "*    I make another change in the original recipe by adding very simple metadata to my manifest. In this case, the metadata contains an English title which has two values. one with The English language tag and the other with the Persian language tag. So our manifest has the title now with two different values.\n",
        "\n",
        "*   After creating the manifest I start creating the first Canvas and simultanously adding it to the manifest.\n",
        "\n",
        "*   After creating the manifest I start creating the first Canvas and simultaneously adding it to the manifest.\n",
        "\n",
        "* Finally, we simply show the JSON-beatify result with indention to make it more human-readable.\n",
        "\n"
      ],
      "metadata": {
        "id": "zGHpx8Sa8Y0x"
      }
    },
    {
      "cell_type": "code",
      "source": [
        "from iiif_prezi3 import Manifest, config\n",
        "\n",
        "config.configs['helpers.auto_fields.AutoLang'].auto_lang = \"en\"\n",
        "\n",
        "manifest = Manifest(id=\"https://iiif.io/api/cookbook/recipe/0001-mvm-image/manifest.json\", label={\"en\":[\"Example Manifest\"]})\n",
        "label = {\"en\": [\"title\"]}\n",
        "value = {\"en\": [\"My Simple Manifest\"], \"fa\": [\"مانيفست ساده من\"]}\n",
        "manifest.add_metadata(label, value)\n",
        "\n",
        "canvas = manifest.make_canvas(id=\"https://iiif.io/api/cookbook/recipe/0001-mvm-image/canvas/p1\", height=1800, width=1200)\n",
        "anno_page = canvas.add_image(image_url=\"http://iiif.io/api/presentation/2.1/example/fixtures/resources/page1-full.png\",\n",
        "                             anno_page_id=\"https://iiif.io/api/cookbook/recipe/0001-mvm-image/page/p1/1\",\n",
        "                             anno_id=\"https://iiif.io/api/cookbook/recipe/0001-mvm-image/annotation/p0001-image\",\n",
        "                             format=\"image/png\",\n",
        "                             height=1800,\n",
        "                             width=1200\n",
        "                             )\n",
        "\n",
        "print(manifest.json(indent=2))"
      ],
      "metadata": {
        "colab": {
          "base_uri": "https://localhost:8080/"
        },
        "id": "rhKgpf-59Suv",
        "outputId": "a85f43fc-2cb6-49bf-ed9d-1276b7afb5be"
      },
      "execution_count": 3,
      "outputs": [
        {
          "output_type": "stream",
          "name": "stdout",
          "text": [
            "{\n",
            "  \"@context\": \"http://iiif.io/api/presentation/3/context.json\",\n",
            "  \"id\": \"https://iiif.io/api/cookbook/recipe/0001-mvm-image/manifest.json\",\n",
            "  \"type\": \"Manifest\",\n",
            "  \"label\": {\n",
            "    \"en\": [\n",
            "      \"Example Manifest\"\n",
            "    ]\n",
            "  },\n",
            "  \"metadata\": [\n",
            "    {\n",
            "      \"label\": {\n",
            "        \"en\": [\n",
            "          \"title\"\n",
            "        ]\n",
            "      },\n",
            "      \"value\": {\n",
            "        \"en\": [\n",
            "          \"My Simple Manifest\"\n",
            "        ],\n",
            "        \"fa\": [\n",
            "          \"مانيفست ساده من\"\n",
            "        ]\n",
            "      }\n",
            "    }\n",
            "  ],\n",
            "  \"items\": [\n",
            "    {\n",
            "      \"id\": \"https://iiif.io/api/cookbook/recipe/0001-mvm-image/canvas/p1\",\n",
            "      \"type\": \"Canvas\",\n",
            "      \"height\": 1800,\n",
            "      \"width\": 1200,\n",
            "      \"items\": [\n",
            "        {\n",
            "          \"id\": \"https://iiif.io/api/cookbook/recipe/0001-mvm-image/page/p1/1\",\n",
            "          \"type\": \"AnnotationPage\",\n",
            "          \"items\": [\n",
            "            {\n",
            "              \"id\": \"https://iiif.io/api/cookbook/recipe/0001-mvm-image/annotation/p0001-image\",\n",
            "              \"type\": \"Annotation\",\n",
            "              \"motivation\": \"painting\",\n",
            "              \"body\": {\n",
            "                \"id\": \"http://iiif.io/api/presentation/2.1/example/fixtures/resources/page1-full.png\",\n",
            "                \"type\": \"Image\",\n",
            "                \"height\": 1800,\n",
            "                \"width\": 1200,\n",
            "                \"format\": \"image/png\"\n",
            "              },\n",
            "              \"target\": \"https://iiif.io/api/cookbook/recipe/0001-mvm-image/canvas/p1\"\n",
            "            }\n",
            "          ]\n",
            "        }\n",
            "      ]\n",
            "    }\n",
            "  ]\n",
            "}\n"
          ]
        }
      ]
    }
  ]
}