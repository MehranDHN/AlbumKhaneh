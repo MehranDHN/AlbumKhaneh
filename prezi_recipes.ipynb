{
  "nbformat": 4,
  "nbformat_minor": 0,
  "metadata": {
    "colab": {
      "provenance": [],
      "authorship_tag": "ABX9TyPumqWsGGOL+xGacip6FWTL",
      "include_colab_link": true
    },
    "kernelspec": {
      "name": "python3",
      "display_name": "Python 3"
    },
    "language_info": {
      "name": "python"
    }
  },
  "cells": [
    {
      "cell_type": "markdown",
      "metadata": {
        "id": "view-in-github",
        "colab_type": "text"
      },
      "source": [
        "<a href=\"https://colab.research.google.com/github/MehranDHN/AlbumKhaneh/blob/main/prezi_recipes.ipynb\" target=\"_parent\"><img src=\"https://colab.research.google.com/assets/colab-badge.svg\" alt=\"Open In Colab\"/></a>"
      ]
    },
    {
      "cell_type": "markdown",
      "source": [
        "**0001-mvm-image-method1**<br>\n",
        "https://github.com/iiif-prezi/iiif-prezi3/blob/main/docs/recipes/scripts/0001-mvm-image-method1.py\n",
        "\n"
      ],
      "metadata": {
        "id": "lU4sSwRX78d1"
      }
    },
    {
      "cell_type": "code",
      "source": [
        "!pip install iiif-prezi3"
      ],
      "metadata": {
        "colab": {
          "base_uri": "https://localhost:8080/"
        },
        "id": "eMRpGc-c8QpX",
        "outputId": "06f3fc56-cd63-4aca-bcba-7738b0eb16a4"
      },
      "execution_count": 1,
      "outputs": [
        {
          "output_type": "stream",
          "name": "stdout",
          "text": [
            "Collecting iiif-prezi3\n",
            "  Downloading iiif_prezi3-1.2.1-py3-none-any.whl.metadata (7.8 kB)\n",
            "Collecting pydantic<2.0.0,>=1.9.2 (from iiif-prezi3)\n",
            "  Downloading pydantic-1.10.17-cp310-cp310-manylinux_2_17_x86_64.manylinux2014_x86_64.whl.metadata (151 kB)\n",
            "\u001b[2K     \u001b[90m━━━━━━━━━━━━━━━━━━━━━━━━━━━━━━━━━━━━━━━━\u001b[0m \u001b[32m151.6/151.6 kB\u001b[0m \u001b[31m4.2 MB/s\u001b[0m eta \u001b[36m0:00:00\u001b[0m\n",
            "\u001b[?25hRequirement already satisfied: requests<3.0.0,>=2.28.0 in /usr/local/lib/python3.10/dist-packages (from iiif-prezi3) (2.32.3)\n",
            "Requirement already satisfied: Pillow<10.0.0,>=9.1.1 in /usr/local/lib/python3.10/dist-packages (from iiif-prezi3) (9.4.0)\n",
            "Requirement already satisfied: typing-extensions>=4.2.0 in /usr/local/lib/python3.10/dist-packages (from pydantic<2.0.0,>=1.9.2->iiif-prezi3) (4.12.2)\n",
            "Requirement already satisfied: charset-normalizer<4,>=2 in /usr/local/lib/python3.10/dist-packages (from requests<3.0.0,>=2.28.0->iiif-prezi3) (3.3.2)\n",
            "Requirement already satisfied: idna<4,>=2.5 in /usr/local/lib/python3.10/dist-packages (from requests<3.0.0,>=2.28.0->iiif-prezi3) (3.7)\n",
            "Requirement already satisfied: urllib3<3,>=1.21.1 in /usr/local/lib/python3.10/dist-packages (from requests<3.0.0,>=2.28.0->iiif-prezi3) (2.0.7)\n",
            "Requirement already satisfied: certifi>=2017.4.17 in /usr/local/lib/python3.10/dist-packages (from requests<3.0.0,>=2.28.0->iiif-prezi3) (2024.7.4)\n",
            "Downloading iiif_prezi3-1.2.1-py3-none-any.whl (27 kB)\n",
            "Downloading pydantic-1.10.17-cp310-cp310-manylinux_2_17_x86_64.manylinux2014_x86_64.whl (3.1 MB)\n",
            "\u001b[2K   \u001b[90m━━━━━━━━━━━━━━━━━━━━━━━━━━━━━━━━━━━━━━━━\u001b[0m \u001b[32m3.1/3.1 MB\u001b[0m \u001b[31m35.8 MB/s\u001b[0m eta \u001b[36m0:00:00\u001b[0m\n",
            "\u001b[?25hInstalling collected packages: pydantic, iiif-prezi3\n",
            "  Attempting uninstall: pydantic\n",
            "    Found existing installation: pydantic 2.8.2\n",
            "    Uninstalling pydantic-2.8.2:\n",
            "      Successfully uninstalled pydantic-2.8.2\n",
            "\u001b[31mERROR: pip's dependency resolver does not currently take into account all the packages that are installed. This behaviour is the source of the following dependency conflicts.\n",
            "albumentations 1.4.13 requires pydantic>=2.7.0, but you have pydantic 1.10.17 which is incompatible.\u001b[0m\u001b[31m\n",
            "\u001b[0mSuccessfully installed iiif-prezi3-1.2.1 pydantic-1.10.17\n"
          ]
        }
      ]
    },
    {
      "cell_type": "markdown",
      "source": [
        "\n",
        "After installing the package we start the simplest on-the-fly manifest creation example. During following these recipes we should think about the use cases and focus on the important role that this library plays in our scenarios.<br>\n",
        "\n",
        "\n",
        "*    Since the IIIF manifest has multi-language capabilities we should configure the default language tag that we want to use in our manifest.\n",
        "*   Then we create a Manifest by providing two parameters. The first is the unique URI of our manifest and the other one is the human-readable label that I intentionally changed from the original one emphasizing that any text can be provided with language tags.\n",
        "\n",
        "*    I make another change in the original recipe by adding very simple metadata to my manifest. In this case, the metadata contains an English title which has two values. one with The English language tag and the other with the Persian language tag. So our manifest has the title now with two different values.\n",
        "\n",
        "*   After creating the manifest I start creating the first Canvas and simultanously adding it to the manifest.\n",
        "\n",
        "*   After creating the manifest I start creating the first Canvas and simultaneously adding it to the manifest.\n",
        "\n",
        "* Finally, we simply show the JSON-beatify result with indention to make it more human-readable.\n",
        "\n"
      ],
      "metadata": {
        "id": "zGHpx8Sa8Y0x"
      }
    },
    {
      "cell_type": "code",
      "source": [
        "from iiif_prezi3 import Manifest, config\n",
        "\n",
        "config.configs['helpers.auto_fields.AutoLang'].auto_lang = \"en\"\n",
        "\n",
        "manifest = Manifest(id=\"https://iiif.io/api/cookbook/recipe/0001-mvm-image/manifest.json\", label={\"en\":[\"Example Manifest\"]})\n",
        "label = {\"en\": [\"title\"]}\n",
        "value = {\"en\": [\"My Simple Manifest\"], \"fa\": [\"مانيفست ساده من\"]}\n",
        "manifest.add_metadata(label, value)\n",
        "\n",
        "canvas = manifest.make_canvas(id=\"https://iiif.io/api/cookbook/recipe/0001-mvm-image/canvas/p1\", height=1800, width=1200)\n",
        "anno_page = canvas.add_image(image_url=\"http://iiif.io/api/presentation/2.1/example/fixtures/resources/page1-full.png\",\n",
        "                             anno_page_id=\"https://iiif.io/api/cookbook/recipe/0001-mvm-image/page/p1/1\",\n",
        "                             anno_id=\"https://iiif.io/api/cookbook/recipe/0001-mvm-image/annotation/p0001-image\",\n",
        "                             format=\"image/png\",\n",
        "                             height=1800,\n",
        "                             width=1200\n",
        "                             )\n",
        "\n",
        "print(manifest.json(indent=2))"
      ],
      "metadata": {
        "colab": {
          "base_uri": "https://localhost:8080/"
        },
        "id": "rhKgpf-59Suv",
        "outputId": "a85f43fc-2cb6-49bf-ed9d-1276b7afb5be"
      },
      "execution_count": 3,
      "outputs": [
        {
          "output_type": "stream",
          "name": "stdout",
          "text": [
            "{\n",
            "  \"@context\": \"http://iiif.io/api/presentation/3/context.json\",\n",
            "  \"id\": \"https://iiif.io/api/cookbook/recipe/0001-mvm-image/manifest.json\",\n",
            "  \"type\": \"Manifest\",\n",
            "  \"label\": {\n",
            "    \"en\": [\n",
            "      \"Example Manifest\"\n",
            "    ]\n",
            "  },\n",
            "  \"metadata\": [\n",
            "    {\n",
            "      \"label\": {\n",
            "        \"en\": [\n",
            "          \"title\"\n",
            "        ]\n",
            "      },\n",
            "      \"value\": {\n",
            "        \"en\": [\n",
            "          \"My Simple Manifest\"\n",
            "        ],\n",
            "        \"fa\": [\n",
            "          \"مانيفست ساده من\"\n",
            "        ]\n",
            "      }\n",
            "    }\n",
            "  ],\n",
            "  \"items\": [\n",
            "    {\n",
            "      \"id\": \"https://iiif.io/api/cookbook/recipe/0001-mvm-image/canvas/p1\",\n",
            "      \"type\": \"Canvas\",\n",
            "      \"height\": 1800,\n",
            "      \"width\": 1200,\n",
            "      \"items\": [\n",
            "        {\n",
            "          \"id\": \"https://iiif.io/api/cookbook/recipe/0001-mvm-image/page/p1/1\",\n",
            "          \"type\": \"AnnotationPage\",\n",
            "          \"items\": [\n",
            "            {\n",
            "              \"id\": \"https://iiif.io/api/cookbook/recipe/0001-mvm-image/annotation/p0001-image\",\n",
            "              \"type\": \"Annotation\",\n",
            "              \"motivation\": \"painting\",\n",
            "              \"body\": {\n",
            "                \"id\": \"http://iiif.io/api/presentation/2.1/example/fixtures/resources/page1-full.png\",\n",
            "                \"type\": \"Image\",\n",
            "                \"height\": 1800,\n",
            "                \"width\": 1200,\n",
            "                \"format\": \"image/png\"\n",
            "              },\n",
            "              \"target\": \"https://iiif.io/api/cookbook/recipe/0001-mvm-image/canvas/p1\"\n",
            "            }\n",
            "          ]\n",
            "        }\n",
            "      ]\n",
            "    }\n",
            "  ]\n",
            "}\n"
          ]
        }
      ]
    }
  ]
}